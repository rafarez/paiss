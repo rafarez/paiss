{
 "cells": [
  {
   "cell_type": "code",
   "execution_count": null,
   "metadata": {},
   "outputs": [],
   "source": [
    "preselected_queries['1f'] = 50\n",
    "preselected_queries['2a'] = 42\n",
    "preselected_queries['2b'] = 42\n",
    "preselected_queries['2c'] = 7"
   ]
  },
  {
   "cell_type": "code",
   "execution_count": 4,
   "metadata": {},
   "outputs": [],
   "source": [
    "import numpy as np\n",
    "from numpy.linalg import norm\n",
    "import torch\n",
    "from torch import nn\n",
    "import json\n",
    "import pdb\n",
    "import sys\n",
    "import os.path as osp\n",
    "\n",
    "from datasets import create\n",
    "from archs import *\n",
    "from utils.test import extract_query\n",
    "from utils.tsne import do_tsne\n",
    "\n",
    "np.random.seed(0)"
   ]
  },
  {
   "cell_type": "code",
   "execution_count": null,
   "metadata": {},
   "outputs": [],
   "source": [
    "# create Oxford 5k database\n",
    "dataset = create('Oxford')\n",
    "\n",
    "# get the label vector\n",
    "labels = dataset.get_label_vector()\n",
    "classes = dataset.get_label_names()\n",
    "\n",
    "# load the dictionary of the available models and features\n",
    "with open('data/models.json', 'r') as fp:\n",
    "    models_dict = json.load(fp)"
   ]
  },
  {
   "cell_type": "markdown",
   "metadata": {},
   "source": [
    "# 1f: Finetuning on Landmarks for retrieval \n",
    "### Now we learn the architecture presented in 1e in and end-to-end manner for the retrieval task. The architecture includes a FC layer that replaces the PCA projection."
   ]
  },
  {
   "cell_type": "code",
   "execution_count": null,
   "metadata": {
    "collapsed": true
   },
   "outputs": [],
   "source": [
    "dataset.vis_triplets()\n",
    "\n",
    "dfeats = np.load(models_dict['resnet18-rnk-lm-gem']['dataset'])\n",
    "qfeats = np.load(models_dict['resnet18-rnk-lm-gem']['queries'])\n",
    "dataset.vis_top(dfeats, q_idx, q_feat=qfeats[q_idx], ap_flag=True)\n",
    "\n",
    "do_tsne(dfeats, labels, classes, sec='1f-1')"
   ]
  },
  {
   "cell_type": "markdown",
   "metadata": {},
   "source": [
    "### Show t-SNE with unlabeled images representation"
   ]
  },
  {
   "cell_type": "code",
   "execution_count": null,
   "metadata": {},
   "outputs": [],
   "source": [
    "do_tsne(dfeats, labels, classes, sec='1f-1', show_unlabeled=True)"
   ]
  },
  {
   "cell_type": "markdown",
   "metadata": {},
   "source": [
    "## _Q: Compare the plots with unlabeled data of the model trained for retrieval (with triplet loss) and the model trained for classification of the previous subsection. How does it change?_"
   ]
  },
  {
   "cell_type": "markdown",
   "metadata": {},
   "source": [
    "# 1g: Data augmentation\n",
    "### This model has been trained the following data augmentation: cropping, pixel jittering, rotation, tilting, etc."
   ]
  },
  {
   "cell_type": "code",
   "execution_count": null,
   "metadata": {},
   "outputs": [],
   "source": [
    "dfeats = np.load(models_dict['resnet18-rnk-lm-gem-da']['dataset'])\n",
    "qfeats = np.load(models_dict['resnet18-rnk-lm-gem-da']['queries'])\n",
    "dataset.vis_top(dfeats, q_idx, q_feat=qfeats[q_idx], ap_flag=True, out_image_file=out_image)"
   ]
  },
  {
   "cell_type": "code",
   "execution_count": null,
   "metadata": {},
   "outputs": [],
   "source": [
    "do_tsne(dfeats, labels, classes, sec='1g')"
   ]
  },
  {
   "cell_type": "markdown",
   "metadata": {},
   "source": [
    "## Q: _TODO_"
   ]
  },
  {
   "cell_type": "markdown",
   "metadata": {},
   "source": [
    "# 1h: Multi-resolution\n",
    "### Using the same model as the one in sect-1g, we extract features at 4 different resolutions and average the outputs"
   ]
  },
  {
   "cell_type": "code",
   "execution_count": null,
   "metadata": {},
   "outputs": [],
   "source": [
    "dfeats = np.load(models_dict['resnet18-rnk-lm-gem-da-mr']['dataset'])\n",
    "qfeats = np.load(models_dict['resnet18-rnk-lm-gem-da-mr']['queries'])\n",
    "dataset.vis_top(dfeats, q_idx, q_feat=qfeats[q_idx], ap_flag=True, out_image_file=out_image)    "
   ]
  },
  {
   "cell_type": "code",
   "execution_count": null,
   "metadata": {},
   "outputs": [],
   "source": [
    "do_tsne(dfeats, labels, classes, sec='1h')"
   ]
  },
  {
   "cell_type": "markdown",
   "metadata": {},
   "source": [
    "## Q: _TODO_"
   ]
  },
  {
   "cell_type": "markdown",
   "metadata": {},
   "source": [
    "# 1i: Improved architecture\n",
    "### Finally, we upgrade the backbone architecture to Resnet50"
   ]
  },
  {
   "cell_type": "code",
   "execution_count": null,
   "metadata": {},
   "outputs": [],
   "source": [
    "dfeats = np.load(models_dict['resnet50-rnk-lm-gem-da-mr']['dataset'])\n",
    "qfeats = np.load(models_dict['resnet50-rnk-lm-gem-da-mr']['queries'])\n",
    "dataset.vis_top(dfeats, q_idx, q_feat=qfeats[q_idx], ap_flag=True, out_image_file=out_image)"
   ]
  },
  {
   "cell_type": "code",
   "execution_count": null,
   "metadata": {},
   "outputs": [],
   "source": [
    "do_tsne(dfeats, labels, classes, sec='1i')"
   ]
  },
  {
   "cell_type": "markdown",
   "metadata": {},
   "source": [
    "## Q: _TODO_\n",
    "\n",
    "# Section 2: Testing\n",
    "\n",
    "# 2a: Robustness to input transformations\n",
    "\n",
    "### Original image:"
   ]
  },
  {
   "cell_type": "code",
   "execution_count": null,
   "metadata": {},
   "outputs": [],
   "source": [
    "q_feat1, raw_img = extract_query(model1, dataset, q_idx)\n",
    "    dataset.vis_top(dfeats1, q_idx, q_feat1, ap_flag=True, query_image=raw_img)"
   ]
  },
  {
   "cell_type": "markdown",
   "metadata": {},
   "source": [
    "## Flipping the query image"
   ]
  },
  {
   "cell_type": "code",
   "execution_count": null,
   "metadata": {},
   "outputs": [],
   "source": []
  },
  {
   "cell_type": "code",
   "execution_count": null,
   "metadata": {},
   "outputs": [],
   "source": []
  },
  {
   "cell_type": "code",
   "execution_count": null,
   "metadata": {},
   "outputs": [],
   "source": []
  },
  {
   "cell_type": "code",
   "execution_count": null,
   "metadata": {},
   "outputs": [],
   "source": []
  }
 ],
 "metadata": {
  "kernelspec": {
   "display_name": "Python 3",
   "language": "python",
   "name": "python3"
  },
  "language_info": {
   "codemirror_mode": {
    "name": "ipython",
    "version": 3
   },
   "file_extension": ".py",
   "mimetype": "text/x-python",
   "name": "python",
   "nbconvert_exporter": "python",
   "pygments_lexer": "ipython3",
   "version": "3.6.7"
  }
 },
 "nbformat": 4,
 "nbformat_minor": 2
}
